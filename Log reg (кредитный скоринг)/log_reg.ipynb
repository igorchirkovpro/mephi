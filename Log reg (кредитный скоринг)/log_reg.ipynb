{
 "cells": [
  {
   "cell_type": "code",
   "execution_count": 1,
   "metadata": {},
   "outputs": [],
   "source": [
    "import numpy as np\n",
    "import pandas as pd\n",
    "from sklearn import preprocessing\n",
    "import matplotlib.pyplot as plt \n",
    "plt.rc(\"font\", size=14)\n",
    "from sklearn.linear_model import LogisticRegression\n",
    "from sklearn.model_selection import train_test_split\n",
    "import seaborn as sns\n",
    "sns.set(style=\"white\")\n",
    "sns.set(style=\"whitegrid\", color_codes=True)"
   ]
  },
  {
   "cell_type": "code",
   "execution_count": 2,
   "metadata": {},
   "outputs": [
    {
     "name": "stdout",
     "output_type": "stream",
     "text": [
      "(861, 26)\n",
      "[1, 2, 3, 4, 5, 6, 7, 8, 9, 10, 11, 12, 13, 14, 15, 16, 17, 18, 19, 20, 21, 22, 23, 24, 25, 'PD']\n"
     ]
    }
   ],
   "source": [
    "data = pd.read_excel('sample.xlsx')\n",
    "print(data.shape)\n",
    "print(list(data.columns))"
   ]
  },
  {
   "cell_type": "code",
   "execution_count": 3,
   "metadata": {
    "scrolled": true
   },
   "outputs": [
    {
     "data": {
      "text/html": [
       "<div>\n",
       "<style scoped>\n",
       "    .dataframe tbody tr th:only-of-type {\n",
       "        vertical-align: middle;\n",
       "    }\n",
       "\n",
       "    .dataframe tbody tr th {\n",
       "        vertical-align: top;\n",
       "    }\n",
       "\n",
       "    .dataframe thead th {\n",
       "        text-align: right;\n",
       "    }\n",
       "</style>\n",
       "<table border=\"1\" class=\"dataframe\">\n",
       "  <thead>\n",
       "    <tr style=\"text-align: right;\">\n",
       "      <th></th>\n",
       "      <th>1</th>\n",
       "      <th>2</th>\n",
       "      <th>3</th>\n",
       "      <th>4</th>\n",
       "      <th>5</th>\n",
       "      <th>6</th>\n",
       "      <th>7</th>\n",
       "      <th>8</th>\n",
       "      <th>9</th>\n",
       "      <th>10</th>\n",
       "      <th>...</th>\n",
       "      <th>17</th>\n",
       "      <th>18</th>\n",
       "      <th>19</th>\n",
       "      <th>20</th>\n",
       "      <th>21</th>\n",
       "      <th>22</th>\n",
       "      <th>23</th>\n",
       "      <th>24</th>\n",
       "      <th>25</th>\n",
       "      <th>PD</th>\n",
       "    </tr>\n",
       "  </thead>\n",
       "  <tbody>\n",
       "    <tr>\n",
       "      <th>0</th>\n",
       "      <td>1905000388</td>\n",
       "      <td>60000</td>\n",
       "      <td>24</td>\n",
       "      <td>20</td>\n",
       "      <td>0.5</td>\n",
       "      <td>No</td>\n",
       "      <td>NaN</td>\n",
       "      <td>0</td>\n",
       "      <td>2</td>\n",
       "      <td>0</td>\n",
       "      <td>...</td>\n",
       "      <td>0</td>\n",
       "      <td>0</td>\n",
       "      <td>1</td>\n",
       "      <td>100</td>\n",
       "      <td>3</td>\n",
       "      <td>3363.61</td>\n",
       "      <td>1</td>\n",
       "      <td>3514.0</td>\n",
       "      <td>6979.0</td>\n",
       "      <td>0</td>\n",
       "    </tr>\n",
       "    <tr>\n",
       "      <th>1</th>\n",
       "      <td>1903001501</td>\n",
       "      <td>15000</td>\n",
       "      <td>12</td>\n",
       "      <td>25</td>\n",
       "      <td>0.5</td>\n",
       "      <td>No</td>\n",
       "      <td>NaN</td>\n",
       "      <td>0</td>\n",
       "      <td>2</td>\n",
       "      <td>0</td>\n",
       "      <td>...</td>\n",
       "      <td>2</td>\n",
       "      <td>0</td>\n",
       "      <td>1</td>\n",
       "      <td>100</td>\n",
       "      <td>3</td>\n",
       "      <td>1511.67</td>\n",
       "      <td>1</td>\n",
       "      <td>3512.0</td>\n",
       "      <td>10200.0</td>\n",
       "      <td>0</td>\n",
       "    </tr>\n",
       "    <tr>\n",
       "      <th>2</th>\n",
       "      <td>1903003784</td>\n",
       "      <td>20000</td>\n",
       "      <td>12</td>\n",
       "      <td>25</td>\n",
       "      <td>0.5</td>\n",
       "      <td>No</td>\n",
       "      <td>NaN</td>\n",
       "      <td>1</td>\n",
       "      <td>0</td>\n",
       "      <td>0</td>\n",
       "      <td>...</td>\n",
       "      <td>16</td>\n",
       "      <td>0</td>\n",
       "      <td>1</td>\n",
       "      <td>100</td>\n",
       "      <td>3</td>\n",
       "      <td>2007.47</td>\n",
       "      <td>2</td>\n",
       "      <td>3512.0</td>\n",
       "      <td>11700.0</td>\n",
       "      <td>0</td>\n",
       "    </tr>\n",
       "    <tr>\n",
       "      <th>3</th>\n",
       "      <td>1803004211</td>\n",
       "      <td>50000</td>\n",
       "      <td>24</td>\n",
       "      <td>25</td>\n",
       "      <td>0.5</td>\n",
       "      <td>No</td>\n",
       "      <td>NaN</td>\n",
       "      <td>0</td>\n",
       "      <td>2</td>\n",
       "      <td>0</td>\n",
       "      <td>...</td>\n",
       "      <td>261</td>\n",
       "      <td>134</td>\n",
       "      <td>1</td>\n",
       "      <td>100</td>\n",
       "      <td>4</td>\n",
       "      <td>2937.38</td>\n",
       "      <td>5</td>\n",
       "      <td>9080.0</td>\n",
       "      <td>13048.0</td>\n",
       "      <td>1</td>\n",
       "    </tr>\n",
       "    <tr>\n",
       "      <th>4</th>\n",
       "      <td>1906000031</td>\n",
       "      <td>70000</td>\n",
       "      <td>24</td>\n",
       "      <td>20</td>\n",
       "      <td>0.5</td>\n",
       "      <td>No</td>\n",
       "      <td>NaN</td>\n",
       "      <td>0</td>\n",
       "      <td>2</td>\n",
       "      <td>0</td>\n",
       "      <td>...</td>\n",
       "      <td>0</td>\n",
       "      <td>0</td>\n",
       "      <td>1</td>\n",
       "      <td>100</td>\n",
       "      <td>0</td>\n",
       "      <td>3939.78</td>\n",
       "      <td>1</td>\n",
       "      <td>3923.0</td>\n",
       "      <td>6168.0</td>\n",
       "      <td>0</td>\n",
       "    </tr>\n",
       "  </tbody>\n",
       "</table>\n",
       "<p>5 rows × 26 columns</p>\n",
       "</div>"
      ],
      "text/plain": [
       "            1      2   3   4    5   6   7  8  9  10  ...   17   18  19   20  \\\n",
       "0  1905000388  60000  24  20  0.5  No NaN  0  2   0  ...    0    0   1  100   \n",
       "1  1903001501  15000  12  25  0.5  No NaN  0  2   0  ...    2    0   1  100   \n",
       "2  1903003784  20000  12  25  0.5  No NaN  1  0   0  ...   16    0   1  100   \n",
       "3  1803004211  50000  24  25  0.5  No NaN  0  2   0  ...  261  134   1  100   \n",
       "4  1906000031  70000  24  20  0.5  No NaN  0  2   0  ...    0    0   1  100   \n",
       "\n",
       "   21       22  23      24       25  PD  \n",
       "0   3  3363.61   1  3514.0   6979.0   0  \n",
       "1   3  1511.67   1  3512.0  10200.0   0  \n",
       "2   3  2007.47   2  3512.0  11700.0   0  \n",
       "3   4  2937.38   5  9080.0  13048.0   1  \n",
       "4   0  3939.78   1  3923.0   6168.0   0  \n",
       "\n",
       "[5 rows x 26 columns]"
      ]
     },
     "execution_count": 3,
     "metadata": {},
     "output_type": "execute_result"
    }
   ],
   "source": [
    "data.head()"
   ]
  },
  {
   "cell_type": "code",
   "execution_count": 4,
   "metadata": {},
   "outputs": [],
   "source": [
    "del data[1]     # Удаляем столбец 1 и 7\n",
    "del data[7]"
   ]
  },
  {
   "cell_type": "code",
   "execution_count": 5,
   "metadata": {
    "scrolled": true
   },
   "outputs": [],
   "source": [
    "data = data.dropna()   # Удаляем Nan"
   ]
  },
  {
   "cell_type": "code",
   "execution_count": 6,
   "metadata": {},
   "outputs": [],
   "source": [
    "data[6] = data[6].map({'Yes': 1, 'No': 0})  # Меняем Yes и No на 1 и 0"
   ]
  },
  {
   "cell_type": "code",
   "execution_count": 7,
   "metadata": {},
   "outputs": [
    {
     "data": {
      "text/html": [
       "<div>\n",
       "<style scoped>\n",
       "    .dataframe tbody tr th:only-of-type {\n",
       "        vertical-align: middle;\n",
       "    }\n",
       "\n",
       "    .dataframe tbody tr th {\n",
       "        vertical-align: top;\n",
       "    }\n",
       "\n",
       "    .dataframe thead th {\n",
       "        text-align: right;\n",
       "    }\n",
       "</style>\n",
       "<table border=\"1\" class=\"dataframe\">\n",
       "  <thead>\n",
       "    <tr style=\"text-align: right;\">\n",
       "      <th></th>\n",
       "      <th>2</th>\n",
       "      <th>3</th>\n",
       "      <th>4</th>\n",
       "      <th>5</th>\n",
       "      <th>6</th>\n",
       "      <th>8</th>\n",
       "      <th>9</th>\n",
       "      <th>10</th>\n",
       "      <th>11</th>\n",
       "      <th>12</th>\n",
       "      <th>...</th>\n",
       "      <th>17</th>\n",
       "      <th>18</th>\n",
       "      <th>19</th>\n",
       "      <th>20</th>\n",
       "      <th>21</th>\n",
       "      <th>22</th>\n",
       "      <th>23</th>\n",
       "      <th>24</th>\n",
       "      <th>25</th>\n",
       "      <th>PD</th>\n",
       "    </tr>\n",
       "  </thead>\n",
       "  <tbody>\n",
       "    <tr>\n",
       "      <th>0</th>\n",
       "      <td>60000</td>\n",
       "      <td>24</td>\n",
       "      <td>20</td>\n",
       "      <td>0.5</td>\n",
       "      <td>0</td>\n",
       "      <td>0</td>\n",
       "      <td>2</td>\n",
       "      <td>0</td>\n",
       "      <td>0</td>\n",
       "      <td>34.1928</td>\n",
       "      <td>...</td>\n",
       "      <td>0</td>\n",
       "      <td>0</td>\n",
       "      <td>1</td>\n",
       "      <td>100</td>\n",
       "      <td>3</td>\n",
       "      <td>3363.61</td>\n",
       "      <td>1</td>\n",
       "      <td>3514.0</td>\n",
       "      <td>6979.0</td>\n",
       "      <td>0</td>\n",
       "    </tr>\n",
       "    <tr>\n",
       "      <th>1</th>\n",
       "      <td>15000</td>\n",
       "      <td>12</td>\n",
       "      <td>25</td>\n",
       "      <td>0.5</td>\n",
       "      <td>0</td>\n",
       "      <td>0</td>\n",
       "      <td>2</td>\n",
       "      <td>0</td>\n",
       "      <td>0</td>\n",
       "      <td>43.8648</td>\n",
       "      <td>...</td>\n",
       "      <td>2</td>\n",
       "      <td>0</td>\n",
       "      <td>1</td>\n",
       "      <td>100</td>\n",
       "      <td>3</td>\n",
       "      <td>1511.67</td>\n",
       "      <td>1</td>\n",
       "      <td>3512.0</td>\n",
       "      <td>10200.0</td>\n",
       "      <td>0</td>\n",
       "    </tr>\n",
       "    <tr>\n",
       "      <th>2</th>\n",
       "      <td>20000</td>\n",
       "      <td>12</td>\n",
       "      <td>25</td>\n",
       "      <td>0.5</td>\n",
       "      <td>0</td>\n",
       "      <td>1</td>\n",
       "      <td>0</td>\n",
       "      <td>0</td>\n",
       "      <td>0</td>\n",
       "      <td>43.0428</td>\n",
       "      <td>...</td>\n",
       "      <td>16</td>\n",
       "      <td>0</td>\n",
       "      <td>1</td>\n",
       "      <td>100</td>\n",
       "      <td>3</td>\n",
       "      <td>2007.47</td>\n",
       "      <td>2</td>\n",
       "      <td>3512.0</td>\n",
       "      <td>11700.0</td>\n",
       "      <td>0</td>\n",
       "    </tr>\n",
       "    <tr>\n",
       "      <th>3</th>\n",
       "      <td>50000</td>\n",
       "      <td>24</td>\n",
       "      <td>25</td>\n",
       "      <td>0.5</td>\n",
       "      <td>0</td>\n",
       "      <td>0</td>\n",
       "      <td>2</td>\n",
       "      <td>0</td>\n",
       "      <td>1</td>\n",
       "      <td>39.4260</td>\n",
       "      <td>...</td>\n",
       "      <td>261</td>\n",
       "      <td>134</td>\n",
       "      <td>1</td>\n",
       "      <td>100</td>\n",
       "      <td>4</td>\n",
       "      <td>2937.38</td>\n",
       "      <td>5</td>\n",
       "      <td>9080.0</td>\n",
       "      <td>13048.0</td>\n",
       "      <td>1</td>\n",
       "    </tr>\n",
       "    <tr>\n",
       "      <th>4</th>\n",
       "      <td>70000</td>\n",
       "      <td>24</td>\n",
       "      <td>20</td>\n",
       "      <td>0.5</td>\n",
       "      <td>0</td>\n",
       "      <td>0</td>\n",
       "      <td>2</td>\n",
       "      <td>0</td>\n",
       "      <td>1</td>\n",
       "      <td>34.6308</td>\n",
       "      <td>...</td>\n",
       "      <td>0</td>\n",
       "      <td>0</td>\n",
       "      <td>1</td>\n",
       "      <td>100</td>\n",
       "      <td>0</td>\n",
       "      <td>3939.78</td>\n",
       "      <td>1</td>\n",
       "      <td>3923.0</td>\n",
       "      <td>6168.0</td>\n",
       "      <td>0</td>\n",
       "    </tr>\n",
       "  </tbody>\n",
       "</table>\n",
       "<p>5 rows × 24 columns</p>\n",
       "</div>"
      ],
      "text/plain": [
       "       2   3   4    5  6  8  9  10  11       12  ...   17   18  19   20  21  \\\n",
       "0  60000  24  20  0.5  0  0  2   0   0  34.1928  ...    0    0   1  100   3   \n",
       "1  15000  12  25  0.5  0  0  2   0   0  43.8648  ...    2    0   1  100   3   \n",
       "2  20000  12  25  0.5  0  1  0   0   0  43.0428  ...   16    0   1  100   3   \n",
       "3  50000  24  25  0.5  0  0  2   0   1  39.4260  ...  261  134   1  100   4   \n",
       "4  70000  24  20  0.5  0  0  2   0   1  34.6308  ...    0    0   1  100   0   \n",
       "\n",
       "        22  23      24       25  PD  \n",
       "0  3363.61   1  3514.0   6979.0   0  \n",
       "1  1511.67   1  3512.0  10200.0   0  \n",
       "2  2007.47   2  3512.0  11700.0   0  \n",
       "3  2937.38   5  9080.0  13048.0   1  \n",
       "4  3939.78   1  3923.0   6168.0   0  \n",
       "\n",
       "[5 rows x 24 columns]"
      ]
     },
     "execution_count": 7,
     "metadata": {},
     "output_type": "execute_result"
    }
   ],
   "source": [
    "data.head()"
   ]
  },
  {
   "cell_type": "code",
   "execution_count": 8,
   "metadata": {},
   "outputs": [
    {
     "data": {
      "text/plain": [
       "0    552\n",
       "1    146\n",
       "Name: PD, dtype: int64"
      ]
     },
     "execution_count": 8,
     "metadata": {},
     "output_type": "execute_result"
    }
   ],
   "source": [
    "data['PD'].value_counts()   # Классы несбалансированые"
   ]
  },
  {
   "cell_type": "code",
   "execution_count": 9,
   "metadata": {},
   "outputs": [
    {
     "data": {
      "image/png": "[encoded data removed]",
      "text/plain": [
       "<Figure size 432x288 with 1 Axes>"
      ]
     },
     "metadata": {},
     "output_type": "display_data"
    }
   ],
   "source": [
    "sns.countplot(x='PD',data=data, palette='hls')\n",
    "plt.show()"
   ]
  },
  {
   "cell_type": "code",
   "execution_count": 10,
   "metadata": {},
   "outputs": [
    {
     "name": "stdout",
     "output_type": "stream",
     "text": [
      "percentage of no approved is 79.08309455587393\n",
      "percentage of approved 20.916905444126073\n"
     ]
    }
   ],
   "source": [
    "count_no_approved = len(data[data['PD']==0])       # Процентное соотношение классов\n",
    "count_approved = len(data[data['PD']==1])\n",
    "pct_of_no_approved = count_no_approved/(count_no_approved+count_approved)\n",
    "print(\"percentage of no approved is\", pct_of_no_approved*100)\n",
    "pct_of_approved = count_approved/(count_no_approved+count_approved)\n",
    "print(\"percentage of approved\", pct_of_approved*100)"
   ]
  },
  {
   "cell_type": "markdown",
   "metadata": {},
   "source": [
    "#### Отбор признаков"
   ]
  },
  {
   "cell_type": "code",
   "execution_count": 11,
   "metadata": {},
   "outputs": [
    {
     "data": {
      "text/plain": [
       "Text(0,0.5,'Share of approvals')"
      ]
     },
     "execution_count": 11,
     "metadata": {},
     "output_type": "execute_result"
    },
    {
     "data": {
      "image/png": "[encoded data removed]",
      "text/plain": [
       "<Figure size 432x288 with 1 Axes>"
      ]
     },
     "metadata": {},
     "output_type": "display_data"
    }
   ],
   "source": [
    "table=pd.crosstab(data[6],data.PD)    # проверка 6   \n",
    "table.div(table.sum(1).astype(float), axis=0).plot(kind='bar', stacked=True)\n",
    "plt.title('Stacked Bar Chart of 6 vs PD')\n",
    "plt.xlabel('6 Status')\n",
    "plt.ylabel('Share of approvals')"
   ]
  },
  {
   "cell_type": "code",
   "execution_count": 12,
   "metadata": {},
   "outputs": [
    {
     "data": {
      "text/plain": [
       "Text(0,0.5,'Share of approvals')"
      ]
     },
     "execution_count": 12,
     "metadata": {},
     "output_type": "execute_result"
    },
    {
     "data": {
      "image/png": "[encoded data removed]",
      "text/plain": [
       "<Figure size 432x288 with 1 Axes>"
      ]
     },
     "metadata": {},
     "output_type": "display_data"
    }
   ],
   "source": [
    "table=pd.crosstab(data[8],data.PD)    # проверка 8   \n",
    "table.div(table.sum(1).astype(float), axis=0).plot(kind='bar', stacked=True)\n",
    "plt.title('Stacked Bar Chart of 8 vs PD')\n",
    "plt.xlabel('8 Status')\n",
    "plt.ylabel('Share of approvals')"
   ]
  },
  {
   "cell_type": "code",
   "execution_count": 13,
   "metadata": {},
   "outputs": [
    {
     "data": {
      "text/plain": [
       "Text(0,0.5,'Share of approvals')"
      ]
     },
     "execution_count": 13,
     "metadata": {},
     "output_type": "execute_result"
    },
    {
     "data": {
      "image/png": "[encoded data removed]",
      "text/plain": [
       "<Figure size 432x288 with 1 Axes>"
      ]
     },
     "metadata": {},
     "output_type": "display_data"
    }
   ],
   "source": [
    "table=pd.crosstab(data[9],data.PD)    # проверка 9   \n",
    "table.div(table.sum(1).astype(float), axis=0).plot(kind='bar', stacked=True)\n",
    "plt.title('Stacked Bar Chart of 9 vs PD')\n",
    "plt.xlabel('9 Status')\n",
    "plt.ylabel('Share of approvals')"
   ]
  },
  {
   "cell_type": "code",
   "execution_count": 14,
   "metadata": {},
   "outputs": [
    {
     "data": {
      "text/plain": [
       "Text(0,0.5,'Share of approvals')"
      ]
     },
     "execution_count": 14,
     "metadata": {},
     "output_type": "execute_result"
    },
    {
     "data": {
      "image/png": "[encoded data removed]",
      "text/plain": [
       "<Figure size 432x288 with 1 Axes>"
      ]
     },
     "metadata": {},
     "output_type": "display_data"
    }
   ],
   "source": [
    "table=pd.crosstab(data[10],data.PD)    # проверка 10     \n",
    "table.div(table.sum(1).astype(float), axis=0).plot(kind='bar', stacked=True)\n",
    "plt.title('Stacked Bar Chart of 10 vs PD')\n",
    "plt.xlabel('10 Status')\n",
    "plt.ylabel('Share of approvals')"
   ]
  },
  {
   "cell_type": "code",
   "execution_count": 15,
   "metadata": {},
   "outputs": [
    {
     "data": {
      "text/plain": [
       "Text(0,0.5,'Share of approvals')"
      ]
     },
     "execution_count": 15,
     "metadata": {},
     "output_type": "execute_result"
    },
    {
     "data": {
      "image/png": "[encoded data removed]",
      "text/plain": [
       "<Figure size 432x288 with 1 Axes>"
      ]
     },
     "metadata": {},
     "output_type": "display_data"
    }
   ],
   "source": [
    "table=pd.crosstab(data[11],data.PD)    # проверка 11  \n",
    "table.div(table.sum(1).astype(float), axis=0).plot(kind='bar', stacked=True)\n",
    "plt.title('Stacked Bar Chart of 11 vs PD')\n",
    "plt.xlabel('11 Status')\n",
    "plt.ylabel('Share of approvals')"
   ]
  },
  {
   "cell_type": "code",
   "execution_count": 16,
   "metadata": {},
   "outputs": [
    {
     "data": {
      "text/plain": [
       "Text(0,0.5,'Share of approvals')"
      ]
     },
     "execution_count": 16,
     "metadata": {},
     "output_type": "execute_result"
    },
    {
     "data": {
      "image/png": "[encoded data removed]",
      "text/plain": [
       "<Figure size 432x288 with 1 Axes>"
      ]
     },
     "metadata": {},
     "output_type": "display_data"
    }
   ],
   "source": [
    "table=pd.crosstab(data[14],data.PD)    # проверка 14    \n",
    "table.div(table.sum(1).astype(float), axis=0).plot(kind='bar', stacked=True)\n",
    "plt.title('Stacked Bar Chart of 14 vs PD')\n",
    "plt.xlabel('14 Status')\n",
    "plt.ylabel('Share of approvals')"
   ]
  },
  {
   "cell_type": "code",
   "execution_count": 17,
   "metadata": {},
   "outputs": [
    {
     "data": {
      "text/plain": [
       "Text(0,0.5,'Share of approvals')"
      ]
     },
     "execution_count": 17,
     "metadata": {},
     "output_type": "execute_result"
    },
    {
     "data": {
      "image/png": "[encoded data removed]",
      "text/plain": [
       "<Figure size 432x288 with 1 Axes>"
      ]
     },
     "metadata": {},
     "output_type": "display_data"
    }
   ],
   "source": [
    "table=pd.crosstab(data[16],data.PD)    # проверка 16    \n",
    "table.div(table.sum(1).astype(float), axis=0).plot(kind='bar', stacked=True)\n",
    "plt.title('Stacked Bar Chart of 16 vs PD')\n",
    "plt.xlabel('16 Status')\n",
    "plt.ylabel('Share of approvals')"
   ]
  },
  {
   "cell_type": "code",
   "execution_count": 18,
   "metadata": {},
   "outputs": [
    {
     "data": {
      "text/plain": [
       "Text(0,0.5,'Share of approvals')"
      ]
     },
     "execution_count": 18,
     "metadata": {},
     "output_type": "execute_result"
    },
    {
     "data": {
      "image/png": "[encoded data removed]",
      "text/plain": [
       "<Figure size 432x288 with 1 Axes>"
      ]
     },
     "metadata": {},
     "output_type": "display_data"
    }
   ],
   "source": [
    "table=pd.crosstab(data[19],data.PD)    # проверка 19    \n",
    "table.div(table.sum(1).astype(float), axis=0).plot(kind='bar', stacked=True)\n",
    "plt.title('Stacked Bar Chart of 19 vs PD')\n",
    "plt.xlabel('19 Status')\n",
    "plt.ylabel('Share of approvals')"
   ]
  },
  {
   "cell_type": "code",
   "execution_count": 19,
   "metadata": {},
   "outputs": [
    {
     "data": {
      "text/plain": [
       "Text(0,0.5,'Share of approvals')"
      ]
     },
     "execution_count": 19,
     "metadata": {},
     "output_type": "execute_result"
    },
    {
     "data": {
      "image/png": "[encoded data removed]",
      "text/plain": [
       "<Figure size 432x288 with 1 Axes>"
      ]
     },
     "metadata": {},
     "output_type": "display_data"
    }
   ],
   "source": [
    "table=pd.crosstab(data[20],data.PD)    # проверка 20      \n",
    "table.div(table.sum(1).astype(float), axis=0).plot(kind='bar', stacked=True)\n",
    "plt.title('Stacked Bar Chart of 20 vs PD')\n",
    "plt.xlabel('20 Status')\n",
    "plt.ylabel('Share of approvals')"
   ]
  },
  {
   "cell_type": "code",
   "execution_count": 20,
   "metadata": {},
   "outputs": [
    {
     "data": {
      "text/plain": [
       "100    669\n",
       "0       23\n",
       "60       6\n",
       "Name: 20, dtype: int64"
      ]
     },
     "execution_count": 20,
     "metadata": {},
     "output_type": "execute_result"
    }
   ],
   "source": [
    "data[20].value_counts()"
   ]
  },
  {
   "cell_type": "code",
   "execution_count": 21,
   "metadata": {
    "scrolled": true
   },
   "outputs": [
    {
     "data": {
      "text/plain": [
       "Text(0,0.5,'Share of approvals')"
      ]
     },
     "execution_count": 21,
     "metadata": {},
     "output_type": "execute_result"
    },
    {
     "data": {
      "image/png": "[encoded data removed]",
      "text/plain": [
       "<Figure size 432x288 with 1 Axes>"
      ]
     },
     "metadata": {},
     "output_type": "display_data"
    }
   ],
   "source": [
    "table=pd.crosstab(data[23],data.PD)    # проверка 23         \n",
    "table.div(table.sum(1).astype(float), axis=0).plot(kind='bar', stacked=True)\n",
    "plt.title('Stacked Bar Chart of 23 vs PD')\n",
    "plt.xlabel('23 Status')\n",
    "plt.ylabel('Share of approvals')"
   ]
  },
  {
   "cell_type": "markdown",
   "metadata": {},
   "source": [
    "#### Over-Sampling"
   ]
  },
  {
   "cell_type": "code",
   "execution_count": 22,
   "metadata": {},
   "outputs": [],
   "source": [
    "X = data.loc[:, data.columns != 'PD']\n",
    "y = data.loc[:, data.columns == 'PD']"
   ]
  },
  {
   "cell_type": "code",
   "execution_count": 23,
   "metadata": {
    "scrolled": true
   },
   "outputs": [
    {
     "name": "stdout",
     "output_type": "stream",
     "text": [
      "length of oversampled data is  986\n",
      "Number of no approved in oversampled data 493\n",
      "Number of approved 493\n",
      "Proportion of no approved data in oversampled data is  0.5\n",
      "Proportion of approved data in oversampled data is  0.5\n"
     ]
    }
   ],
   "source": [
    "from imblearn.over_sampling import SMOTE\n",
    "\n",
    "os = SMOTE(random_state=0)\n",
    "X_train, X_test, y_train, y_test = train_test_split(X, y, test_size=0.1, random_state=0)\n",
    "columns = X_train.columns\n",
    "\n",
    "os_data_X,os_data_y=os.fit_sample(X_train, y_train)\n",
    "os_data_X = pd.DataFrame(data=os_data_X,columns=columns )\n",
    "os_data_y= pd.DataFrame(data=os_data_y,columns=['PD'])\n",
    "print(\"length of oversampled data is \",len(os_data_X))\n",
    "print(\"Number of no approved in oversampled data\",len(os_data_y[os_data_y['PD']==0]))\n",
    "print(\"Number of approved\",len(os_data_y[os_data_y['PD']==1]))\n",
    "print(\"Proportion of no approved data in oversampled data is \",len(os_data_y[os_data_y['PD']==0])/len(os_data_X))\n",
    "print(\"Proportion of approved data in oversampled data is \",len(os_data_y[os_data_y['PD']==1])/len(os_data_X))"
   ]
  },
  {
   "cell_type": "markdown",
   "metadata": {},
   "source": [
    "#### Рекурсивное устранение признаков"
   ]
  },
  {
   "cell_type": "code",
   "execution_count": 34,
   "metadata": {
    "scrolled": true
   },
   "outputs": [
    {
     "name": "stdout",
     "output_type": "stream",
     "text": [
      "[ True  True  True  True  True  True  True  True  True  True  True  True\n",
      "  True False  True  True  True  True  True  True  True  True False]\n",
      "[1 1 1 1 1 1 1 1 1 1 1 1 1 2 1 1 1 1 1 1 1 1 3]\n"
     ]
    }
   ],
   "source": [
    "data_final_vars=data.columns.values.tolist()\n",
    "y=['PD']\n",
    "X=[i for i in data_final_vars if i not in y]\n",
    "\n",
    "from sklearn import datasets\n",
    "from sklearn.feature_selection import RFE\n",
    "from sklearn.linear_model import LogisticRegression\n",
    "\n",
    "logreg = LogisticRegression(max_iter=10000)\n",
    "\n",
    "rfe = RFE(logreg, n_features_to_select=21, step=1)\n",
    "rfe = rfe.fit(os_data_X, os_data_y.values.ravel())\n",
    "print(rfe.support_)\n",
    "print(rfe.ranking_)"
   ]
  },
  {
   "cell_type": "code",
   "execution_count": 25,
   "metadata": {},
   "outputs": [],
   "source": [
    "cols = [8, 9, 11, 14, 19, 21, 22] # 78\n",
    "X=os_data_X[cols]\n",
    "y=os_data_y['PD']"
   ]
  },
  {
   "cell_type": "markdown",
   "metadata": {},
   "source": [
    "#### Матрица корреляции"
   ]
  },
  {
   "cell_type": "code",
   "execution_count": 26,
   "metadata": {
    "scrolled": true
   },
   "outputs": [
    {
     "data": {
      "text/html": [
       "<div>\n",
       "<style scoped>\n",
       "    .dataframe tbody tr th:only-of-type {\n",
       "        vertical-align: middle;\n",
       "    }\n",
       "\n",
       "    .dataframe tbody tr th {\n",
       "        vertical-align: top;\n",
       "    }\n",
       "\n",
       "    .dataframe thead th {\n",
       "        text-align: right;\n",
       "    }\n",
       "</style>\n",
       "<table border=\"1\" class=\"dataframe\">\n",
       "  <thead>\n",
       "    <tr style=\"text-align: right;\">\n",
       "      <th></th>\n",
       "      <th>2</th>\n",
       "      <th>3</th>\n",
       "      <th>4</th>\n",
       "      <th>5</th>\n",
       "      <th>6</th>\n",
       "      <th>8</th>\n",
       "      <th>9</th>\n",
       "      <th>10</th>\n",
       "      <th>11</th>\n",
       "      <th>12</th>\n",
       "      <th>13</th>\n",
       "      <th>14</th>\n",
       "      <th>15</th>\n",
       "      <th>16</th>\n",
       "      <th>17</th>\n",
       "      <th>18</th>\n",
       "      <th>19</th>\n",
       "      <th>20</th>\n",
       "      <th>21</th>\n",
       "      <th>22</th>\n",
       "      <th>23</th>\n",
       "      <th>24</th>\n",
       "      <th>25</th>\n",
       "      <th>PD</th>\n",
       "    </tr>\n",
       "  </thead>\n",
       "  <tbody>\n",
       "    <tr>\n",
       "      <th>2</th>\n",
       "      <td>1.000000</td>\n",
       "      <td>0.284586</td>\n",
       "      <td>-0.747639</td>\n",
       "      <td>-0.059917</td>\n",
       "      <td>0.025895</td>\n",
       "      <td>-0.206549</td>\n",
       "      <td>0.018787</td>\n",
       "      <td>0.099972</td>\n",
       "      <td>0.082542</td>\n",
       "      <td>-0.649132</td>\n",
       "      <td>-0.104693</td>\n",
       "      <td>-0.110881</td>\n",
       "      <td>0.032096</td>\n",
       "      <td>0.132285</td>\n",
       "      <td>0.037099</td>\n",
       "      <td>0.032926</td>\n",
       "      <td>-0.009362</td>\n",
       "      <td>-0.084186</td>\n",
       "      <td>-0.065185</td>\n",
       "      <td>0.444080</td>\n",
       "      <td>0.025678</td>\n",
       "      <td>0.171285</td>\n",
       "      <td>0.306649</td>\n",
       "      <td>0.050090</td>\n",
       "    </tr>\n",
       "    <tr>\n",
       "      <th>3</th>\n",
       "      <td>0.284586</td>\n",
       "      <td>1.000000</td>\n",
       "      <td>-0.198170</td>\n",
       "      <td>-0.048022</td>\n",
       "      <td>-0.442558</td>\n",
       "      <td>-0.144355</td>\n",
       "      <td>0.142673</td>\n",
       "      <td>-0.174134</td>\n",
       "      <td>-0.155721</td>\n",
       "      <td>-0.443015</td>\n",
       "      <td>-0.138990</td>\n",
       "      <td>-0.055319</td>\n",
       "      <td>0.040947</td>\n",
       "      <td>0.021576</td>\n",
       "      <td>0.138293</td>\n",
       "      <td>0.099297</td>\n",
       "      <td>-0.153135</td>\n",
       "      <td>0.023804</td>\n",
       "      <td>0.057197</td>\n",
       "      <td>-0.337862</td>\n",
       "      <td>0.094037</td>\n",
       "      <td>-0.121336</td>\n",
       "      <td>-0.251279</td>\n",
       "      <td>0.134092</td>\n",
       "    </tr>\n",
       "    <tr>\n",
       "      <th>4</th>\n",
       "      <td>-0.747639</td>\n",
       "      <td>-0.198170</td>\n",
       "      <td>1.000000</td>\n",
       "      <td>0.084051</td>\n",
       "      <td>-0.039813</td>\n",
       "      <td>-0.019272</td>\n",
       "      <td>-0.006168</td>\n",
       "      <td>-0.073245</td>\n",
       "      <td>-0.014027</td>\n",
       "      <td>0.763754</td>\n",
       "      <td>0.057506</td>\n",
       "      <td>0.056358</td>\n",
       "      <td>-0.015648</td>\n",
       "      <td>-0.111022</td>\n",
       "      <td>-0.001784</td>\n",
       "      <td>-0.033206</td>\n",
       "      <td>-0.047891</td>\n",
       "      <td>0.057875</td>\n",
       "      <td>0.046032</td>\n",
       "      <td>-0.364399</td>\n",
       "      <td>-0.097660</td>\n",
       "      <td>-0.135432</td>\n",
       "      <td>-0.269328</td>\n",
       "      <td>-0.022670</td>\n",
       "    </tr>\n",
       "    <tr>\n",
       "      <th>5</th>\n",
       "      <td>-0.059917</td>\n",
       "      <td>-0.048022</td>\n",
       "      <td>0.084051</td>\n",
       "      <td>1.000000</td>\n",
       "      <td>0.019245</td>\n",
       "      <td>-0.080333</td>\n",
       "      <td>-0.002635</td>\n",
       "      <td>0.009981</td>\n",
       "      <td>0.075938</td>\n",
       "      <td>0.119433</td>\n",
       "      <td>0.323527</td>\n",
       "      <td>-0.094998</td>\n",
       "      <td>0.076610</td>\n",
       "      <td>0.002468</td>\n",
       "      <td>-0.001636</td>\n",
       "      <td>-0.011024</td>\n",
       "      <td>-0.033741</td>\n",
       "      <td>-0.013053</td>\n",
       "      <td>0.017628</td>\n",
       "      <td>-0.004054</td>\n",
       "      <td>0.004158</td>\n",
       "      <td>-0.003658</td>\n",
       "      <td>-0.007072</td>\n",
       "      <td>-0.024748</td>\n",
       "    </tr>\n",
       "    <tr>\n",
       "      <th>6</th>\n",
       "      <td>0.025895</td>\n",
       "      <td>-0.442558</td>\n",
       "      <td>-0.039813</td>\n",
       "      <td>0.019245</td>\n",
       "      <td>1.000000</td>\n",
       "      <td>0.019150</td>\n",
       "      <td>-0.136919</td>\n",
       "      <td>0.201446</td>\n",
       "      <td>0.168057</td>\n",
       "      <td>-0.163938</td>\n",
       "      <td>0.027066</td>\n",
       "      <td>-0.120591</td>\n",
       "      <td>0.187089</td>\n",
       "      <td>-0.011187</td>\n",
       "      <td>-0.097495</td>\n",
       "      <td>-0.046930</td>\n",
       "      <td>0.153969</td>\n",
       "      <td>0.059160</td>\n",
       "      <td>-0.037676</td>\n",
       "      <td>0.431809</td>\n",
       "      <td>0.002795</td>\n",
       "      <td>0.216842</td>\n",
       "      <td>0.279320</td>\n",
       "      <td>-0.100022</td>\n",
       "    </tr>\n",
       "    <tr>\n",
       "      <th>8</th>\n",
       "      <td>-0.206549</td>\n",
       "      <td>-0.144355</td>\n",
       "      <td>-0.019272</td>\n",
       "      <td>-0.080333</td>\n",
       "      <td>0.019150</td>\n",
       "      <td>1.000000</td>\n",
       "      <td>0.020993</td>\n",
       "      <td>-0.065541</td>\n",
       "      <td>0.008693</td>\n",
       "      <td>0.098951</td>\n",
       "      <td>0.017327</td>\n",
       "      <td>0.187957</td>\n",
       "      <td>-0.111096</td>\n",
       "      <td>-0.030724</td>\n",
       "      <td>-0.079570</td>\n",
       "      <td>-0.052770</td>\n",
       "      <td>0.052587</td>\n",
       "      <td>0.162482</td>\n",
       "      <td>0.036424</td>\n",
       "      <td>-0.086724</td>\n",
       "      <td>0.051152</td>\n",
       "      <td>-0.008822</td>\n",
       "      <td>0.055308</td>\n",
       "      <td>-0.093166</td>\n",
       "    </tr>\n",
       "    <tr>\n",
       "      <th>9</th>\n",
       "      <td>0.018787</td>\n",
       "      <td>0.142673</td>\n",
       "      <td>-0.006168</td>\n",
       "      <td>-0.002635</td>\n",
       "      <td>-0.136919</td>\n",
       "      <td>0.020993</td>\n",
       "      <td>1.000000</td>\n",
       "      <td>-0.186810</td>\n",
       "      <td>0.000368</td>\n",
       "      <td>-0.035010</td>\n",
       "      <td>-0.003706</td>\n",
       "      <td>0.030056</td>\n",
       "      <td>0.012427</td>\n",
       "      <td>0.001532</td>\n",
       "      <td>0.054820</td>\n",
       "      <td>0.008592</td>\n",
       "      <td>-0.072795</td>\n",
       "      <td>-0.103499</td>\n",
       "      <td>0.002966</td>\n",
       "      <td>-0.168652</td>\n",
       "      <td>-0.058213</td>\n",
       "      <td>-0.049815</td>\n",
       "      <td>-0.127533</td>\n",
       "      <td>0.049204</td>\n",
       "    </tr>\n",
       "    <tr>\n",
       "      <th>10</th>\n",
       "      <td>0.099972</td>\n",
       "      <td>-0.174134</td>\n",
       "      <td>-0.073245</td>\n",
       "      <td>0.009981</td>\n",
       "      <td>0.201446</td>\n",
       "      <td>-0.065541</td>\n",
       "      <td>-0.186810</td>\n",
       "      <td>1.000000</td>\n",
       "      <td>0.034579</td>\n",
       "      <td>-0.082725</td>\n",
       "      <td>0.014037</td>\n",
       "      <td>-0.090940</td>\n",
       "      <td>0.013895</td>\n",
       "      <td>-0.005802</td>\n",
       "      <td>-0.016410</td>\n",
       "      <td>-0.022233</td>\n",
       "      <td>0.057592</td>\n",
       "      <td>-0.022014</td>\n",
       "      <td>-0.036151</td>\n",
       "      <td>0.369626</td>\n",
       "      <td>0.082098</td>\n",
       "      <td>0.308546</td>\n",
       "      <td>0.273082</td>\n",
       "      <td>-0.008161</td>\n",
       "    </tr>\n",
       "    <tr>\n",
       "      <th>11</th>\n",
       "      <td>0.082542</td>\n",
       "      <td>-0.155721</td>\n",
       "      <td>-0.014027</td>\n",
       "      <td>0.075938</td>\n",
       "      <td>0.168057</td>\n",
       "      <td>0.008693</td>\n",
       "      <td>0.000368</td>\n",
       "      <td>0.034579</td>\n",
       "      <td>1.000000</td>\n",
       "      <td>0.010542</td>\n",
       "      <td>0.034236</td>\n",
       "      <td>-0.248893</td>\n",
       "      <td>0.274598</td>\n",
       "      <td>0.032502</td>\n",
       "      <td>-0.061034</td>\n",
       "      <td>-0.055990</td>\n",
       "      <td>0.125597</td>\n",
       "      <td>-0.015500</td>\n",
       "      <td>-0.145206</td>\n",
       "      <td>0.122562</td>\n",
       "      <td>-0.002994</td>\n",
       "      <td>-0.009982</td>\n",
       "      <td>0.096772</td>\n",
       "      <td>-0.064762</td>\n",
       "    </tr>\n",
       "    <tr>\n",
       "      <th>12</th>\n",
       "      <td>-0.649132</td>\n",
       "      <td>-0.443015</td>\n",
       "      <td>0.763754</td>\n",
       "      <td>0.119433</td>\n",
       "      <td>-0.163938</td>\n",
       "      <td>0.098951</td>\n",
       "      <td>-0.035010</td>\n",
       "      <td>-0.082725</td>\n",
       "      <td>0.010542</td>\n",
       "      <td>1.000000</td>\n",
       "      <td>0.140749</td>\n",
       "      <td>0.126100</td>\n",
       "      <td>-0.145677</td>\n",
       "      <td>-0.069452</td>\n",
       "      <td>-0.011634</td>\n",
       "      <td>-0.039276</td>\n",
       "      <td>-0.023463</td>\n",
       "      <td>0.001052</td>\n",
       "      <td>0.011732</td>\n",
       "      <td>-0.308220</td>\n",
       "      <td>-0.169332</td>\n",
       "      <td>-0.153747</td>\n",
       "      <td>-0.189809</td>\n",
       "      <td>-0.035368</td>\n",
       "    </tr>\n",
       "    <tr>\n",
       "      <th>13</th>\n",
       "      <td>-0.104693</td>\n",
       "      <td>-0.138990</td>\n",
       "      <td>0.057506</td>\n",
       "      <td>0.323527</td>\n",
       "      <td>0.027066</td>\n",
       "      <td>0.017327</td>\n",
       "      <td>-0.003706</td>\n",
       "      <td>0.014037</td>\n",
       "      <td>0.034236</td>\n",
       "      <td>0.140749</td>\n",
       "      <td>1.000000</td>\n",
       "      <td>-0.058864</td>\n",
       "      <td>0.043155</td>\n",
       "      <td>0.003471</td>\n",
       "      <td>0.003639</td>\n",
       "      <td>-0.001639</td>\n",
       "      <td>0.016612</td>\n",
       "      <td>0.025509</td>\n",
       "      <td>0.026167</td>\n",
       "      <td>0.002717</td>\n",
       "      <td>0.012705</td>\n",
       "      <td>-0.001095</td>\n",
       "      <td>-0.001096</td>\n",
       "      <td>0.037334</td>\n",
       "    </tr>\n",
       "    <tr>\n",
       "      <th>14</th>\n",
       "      <td>-0.110881</td>\n",
       "      <td>-0.055319</td>\n",
       "      <td>0.056358</td>\n",
       "      <td>-0.094998</td>\n",
       "      <td>-0.120591</td>\n",
       "      <td>0.187957</td>\n",
       "      <td>0.030056</td>\n",
       "      <td>-0.090940</td>\n",
       "      <td>-0.248893</td>\n",
       "      <td>0.126100</td>\n",
       "      <td>-0.058864</td>\n",
       "      <td>1.000000</td>\n",
       "      <td>-0.382393</td>\n",
       "      <td>0.029846</td>\n",
       "      <td>0.027373</td>\n",
       "      <td>0.003702</td>\n",
       "      <td>-0.030263</td>\n",
       "      <td>0.032354</td>\n",
       "      <td>0.065387</td>\n",
       "      <td>-0.115312</td>\n",
       "      <td>-0.002440</td>\n",
       "      <td>-0.016547</td>\n",
       "      <td>-0.022325</td>\n",
       "      <td>-0.038399</td>\n",
       "    </tr>\n",
       "    <tr>\n",
       "      <th>15</th>\n",
       "      <td>0.032096</td>\n",
       "      <td>0.040947</td>\n",
       "      <td>-0.015648</td>\n",
       "      <td>0.076610</td>\n",
       "      <td>0.187089</td>\n",
       "      <td>-0.111096</td>\n",
       "      <td>0.012427</td>\n",
       "      <td>0.013895</td>\n",
       "      <td>0.274598</td>\n",
       "      <td>-0.145677</td>\n",
       "      <td>0.043155</td>\n",
       "      <td>-0.382393</td>\n",
       "      <td>1.000000</td>\n",
       "      <td>-0.044533</td>\n",
       "      <td>-0.063877</td>\n",
       "      <td>0.006420</td>\n",
       "      <td>0.185545</td>\n",
       "      <td>0.120451</td>\n",
       "      <td>0.175407</td>\n",
       "      <td>0.108438</td>\n",
       "      <td>0.011049</td>\n",
       "      <td>0.042808</td>\n",
       "      <td>0.024274</td>\n",
       "      <td>-0.033643</td>\n",
       "    </tr>\n",
       "    <tr>\n",
       "      <th>16</th>\n",
       "      <td>0.132285</td>\n",
       "      <td>0.021576</td>\n",
       "      <td>-0.111022</td>\n",
       "      <td>0.002468</td>\n",
       "      <td>-0.011187</td>\n",
       "      <td>-0.030724</td>\n",
       "      <td>0.001532</td>\n",
       "      <td>-0.005802</td>\n",
       "      <td>0.032502</td>\n",
       "      <td>-0.069452</td>\n",
       "      <td>0.003471</td>\n",
       "      <td>0.029846</td>\n",
       "      <td>-0.044533</td>\n",
       "      <td>1.000000</td>\n",
       "      <td>-0.002085</td>\n",
       "      <td>-0.006755</td>\n",
       "      <td>-0.014014</td>\n",
       "      <td>0.007587</td>\n",
       "      <td>-0.023318</td>\n",
       "      <td>0.028692</td>\n",
       "      <td>0.015132</td>\n",
       "      <td>0.010810</td>\n",
       "      <td>0.006558</td>\n",
       "      <td>-0.019480</td>\n",
       "    </tr>\n",
       "    <tr>\n",
       "      <th>17</th>\n",
       "      <td>0.037099</td>\n",
       "      <td>0.138293</td>\n",
       "      <td>-0.001784</td>\n",
       "      <td>-0.001636</td>\n",
       "      <td>-0.097495</td>\n",
       "      <td>-0.079570</td>\n",
       "      <td>0.054820</td>\n",
       "      <td>-0.016410</td>\n",
       "      <td>-0.061034</td>\n",
       "      <td>-0.011634</td>\n",
       "      <td>0.003639</td>\n",
       "      <td>0.027373</td>\n",
       "      <td>-0.063877</td>\n",
       "      <td>-0.002085</td>\n",
       "      <td>1.000000</td>\n",
       "      <td>0.730946</td>\n",
       "      <td>-0.070349</td>\n",
       "      <td>-0.023559</td>\n",
       "      <td>0.002097</td>\n",
       "      <td>-0.082341</td>\n",
       "      <td>0.018478</td>\n",
       "      <td>-0.030358</td>\n",
       "      <td>-0.062891</td>\n",
       "      <td>0.666052</td>\n",
       "    </tr>\n",
       "    <tr>\n",
       "      <th>18</th>\n",
       "      <td>0.032926</td>\n",
       "      <td>0.099297</td>\n",
       "      <td>-0.033206</td>\n",
       "      <td>-0.011024</td>\n",
       "      <td>-0.046930</td>\n",
       "      <td>-0.052770</td>\n",
       "      <td>0.008592</td>\n",
       "      <td>-0.022233</td>\n",
       "      <td>-0.055990</td>\n",
       "      <td>-0.039276</td>\n",
       "      <td>-0.001639</td>\n",
       "      <td>0.003702</td>\n",
       "      <td>0.006420</td>\n",
       "      <td>-0.006755</td>\n",
       "      <td>0.730946</td>\n",
       "      <td>1.000000</td>\n",
       "      <td>-0.028839</td>\n",
       "      <td>-0.013015</td>\n",
       "      <td>0.034814</td>\n",
       "      <td>-0.037805</td>\n",
       "      <td>0.042252</td>\n",
       "      <td>-0.014931</td>\n",
       "      <td>-0.037488</td>\n",
       "      <td>0.335165</td>\n",
       "    </tr>\n",
       "    <tr>\n",
       "      <th>19</th>\n",
       "      <td>-0.009362</td>\n",
       "      <td>-0.153135</td>\n",
       "      <td>-0.047891</td>\n",
       "      <td>-0.033741</td>\n",
       "      <td>0.153969</td>\n",
       "      <td>0.052587</td>\n",
       "      <td>-0.072795</td>\n",
       "      <td>0.057592</td>\n",
       "      <td>0.125597</td>\n",
       "      <td>-0.023463</td>\n",
       "      <td>0.016612</td>\n",
       "      <td>-0.030263</td>\n",
       "      <td>0.185545</td>\n",
       "      <td>-0.014014</td>\n",
       "      <td>-0.070349</td>\n",
       "      <td>-0.028839</td>\n",
       "      <td>1.000000</td>\n",
       "      <td>0.103205</td>\n",
       "      <td>-0.001170</td>\n",
       "      <td>0.170000</td>\n",
       "      <td>0.076500</td>\n",
       "      <td>0.147244</td>\n",
       "      <td>0.219413</td>\n",
       "      <td>-0.033567</td>\n",
       "    </tr>\n",
       "    <tr>\n",
       "      <th>20</th>\n",
       "      <td>-0.084186</td>\n",
       "      <td>0.023804</td>\n",
       "      <td>0.057875</td>\n",
       "      <td>-0.013053</td>\n",
       "      <td>0.059160</td>\n",
       "      <td>0.162482</td>\n",
       "      <td>-0.103499</td>\n",
       "      <td>-0.022014</td>\n",
       "      <td>-0.015500</td>\n",
       "      <td>0.001052</td>\n",
       "      <td>0.025509</td>\n",
       "      <td>0.032354</td>\n",
       "      <td>0.120451</td>\n",
       "      <td>0.007587</td>\n",
       "      <td>-0.023559</td>\n",
       "      <td>-0.013015</td>\n",
       "      <td>0.103205</td>\n",
       "      <td>1.000000</td>\n",
       "      <td>0.195161</td>\n",
       "      <td>-0.015416</td>\n",
       "      <td>0.172608</td>\n",
       "      <td>0.032734</td>\n",
       "      <td>0.076723</td>\n",
       "      <td>-0.021079</td>\n",
       "    </tr>\n",
       "    <tr>\n",
       "      <th>21</th>\n",
       "      <td>-0.065185</td>\n",
       "      <td>0.057197</td>\n",
       "      <td>0.046032</td>\n",
       "      <td>0.017628</td>\n",
       "      <td>-0.037676</td>\n",
       "      <td>0.036424</td>\n",
       "      <td>0.002966</td>\n",
       "      <td>-0.036151</td>\n",
       "      <td>-0.145206</td>\n",
       "      <td>0.011732</td>\n",
       "      <td>0.026167</td>\n",
       "      <td>0.065387</td>\n",
       "      <td>0.175407</td>\n",
       "      <td>-0.023318</td>\n",
       "      <td>0.002097</td>\n",
       "      <td>0.034814</td>\n",
       "      <td>-0.001170</td>\n",
       "      <td>0.195161</td>\n",
       "      <td>1.000000</td>\n",
       "      <td>-0.036297</td>\n",
       "      <td>0.004411</td>\n",
       "      <td>0.005095</td>\n",
       "      <td>-0.014857</td>\n",
       "      <td>0.017678</td>\n",
       "    </tr>\n",
       "    <tr>\n",
       "      <th>22</th>\n",
       "      <td>0.444080</td>\n",
       "      <td>-0.337862</td>\n",
       "      <td>-0.364399</td>\n",
       "      <td>-0.004054</td>\n",
       "      <td>0.431809</td>\n",
       "      <td>-0.086724</td>\n",
       "      <td>-0.168652</td>\n",
       "      <td>0.369626</td>\n",
       "      <td>0.122562</td>\n",
       "      <td>-0.308220</td>\n",
       "      <td>0.002717</td>\n",
       "      <td>-0.115312</td>\n",
       "      <td>0.108438</td>\n",
       "      <td>0.028692</td>\n",
       "      <td>-0.082341</td>\n",
       "      <td>-0.037805</td>\n",
       "      <td>0.170000</td>\n",
       "      <td>-0.015416</td>\n",
       "      <td>-0.036297</td>\n",
       "      <td>1.000000</td>\n",
       "      <td>0.086636</td>\n",
       "      <td>0.309785</td>\n",
       "      <td>0.571483</td>\n",
       "      <td>-0.090281</td>\n",
       "    </tr>\n",
       "    <tr>\n",
       "      <th>23</th>\n",
       "      <td>0.025678</td>\n",
       "      <td>0.094037</td>\n",
       "      <td>-0.097660</td>\n",
       "      <td>0.004158</td>\n",
       "      <td>0.002795</td>\n",
       "      <td>0.051152</td>\n",
       "      <td>-0.058213</td>\n",
       "      <td>0.082098</td>\n",
       "      <td>-0.002994</td>\n",
       "      <td>-0.169332</td>\n",
       "      <td>0.012705</td>\n",
       "      <td>-0.002440</td>\n",
       "      <td>0.011049</td>\n",
       "      <td>0.015132</td>\n",
       "      <td>0.018478</td>\n",
       "      <td>0.042252</td>\n",
       "      <td>0.076500</td>\n",
       "      <td>0.172608</td>\n",
       "      <td>0.004411</td>\n",
       "      <td>0.086636</td>\n",
       "      <td>1.000000</td>\n",
       "      <td>0.215327</td>\n",
       "      <td>0.265473</td>\n",
       "      <td>0.079788</td>\n",
       "    </tr>\n",
       "    <tr>\n",
       "      <th>24</th>\n",
       "      <td>0.171285</td>\n",
       "      <td>-0.121336</td>\n",
       "      <td>-0.135432</td>\n",
       "      <td>-0.003658</td>\n",
       "      <td>0.216842</td>\n",
       "      <td>-0.008822</td>\n",
       "      <td>-0.049815</td>\n",
       "      <td>0.308546</td>\n",
       "      <td>-0.009982</td>\n",
       "      <td>-0.153747</td>\n",
       "      <td>-0.001095</td>\n",
       "      <td>-0.016547</td>\n",
       "      <td>0.042808</td>\n",
       "      <td>0.010810</td>\n",
       "      <td>-0.030358</td>\n",
       "      <td>-0.014931</td>\n",
       "      <td>0.147244</td>\n",
       "      <td>0.032734</td>\n",
       "      <td>0.005095</td>\n",
       "      <td>0.309785</td>\n",
       "      <td>0.215327</td>\n",
       "      <td>1.000000</td>\n",
       "      <td>0.378347</td>\n",
       "      <td>-0.033948</td>\n",
       "    </tr>\n",
       "    <tr>\n",
       "      <th>25</th>\n",
       "      <td>0.306649</td>\n",
       "      <td>-0.251279</td>\n",
       "      <td>-0.269328</td>\n",
       "      <td>-0.007072</td>\n",
       "      <td>0.279320</td>\n",
       "      <td>0.055308</td>\n",
       "      <td>-0.127533</td>\n",
       "      <td>0.273082</td>\n",
       "      <td>0.096772</td>\n",
       "      <td>-0.189809</td>\n",
       "      <td>-0.001096</td>\n",
       "      <td>-0.022325</td>\n",
       "      <td>0.024274</td>\n",
       "      <td>0.006558</td>\n",
       "      <td>-0.062891</td>\n",
       "      <td>-0.037488</td>\n",
       "      <td>0.219413</td>\n",
       "      <td>0.076723</td>\n",
       "      <td>-0.014857</td>\n",
       "      <td>0.571483</td>\n",
       "      <td>0.265473</td>\n",
       "      <td>0.378347</td>\n",
       "      <td>1.000000</td>\n",
       "      <td>-0.069498</td>\n",
       "    </tr>\n",
       "    <tr>\n",
       "      <th>PD</th>\n",
       "      <td>0.050090</td>\n",
       "      <td>0.134092</td>\n",
       "      <td>-0.022670</td>\n",
       "      <td>-0.024748</td>\n",
       "      <td>-0.100022</td>\n",
       "      <td>-0.093166</td>\n",
       "      <td>0.049204</td>\n",
       "      <td>-0.008161</td>\n",
       "      <td>-0.064762</td>\n",
       "      <td>-0.035368</td>\n",
       "      <td>0.037334</td>\n",
       "      <td>-0.038399</td>\n",
       "      <td>-0.033643</td>\n",
       "      <td>-0.019480</td>\n",
       "      <td>0.666052</td>\n",
       "      <td>0.335165</td>\n",
       "      <td>-0.033567</td>\n",
       "      <td>-0.021079</td>\n",
       "      <td>0.017678</td>\n",
       "      <td>-0.090281</td>\n",
       "      <td>0.079788</td>\n",
       "      <td>-0.033948</td>\n",
       "      <td>-0.069498</td>\n",
       "      <td>1.000000</td>\n",
       "    </tr>\n",
       "  </tbody>\n",
       "</table>\n",
       "</div>"
      ],
      "text/plain": [
       "           2         3         4         5         6         8         9  \\\n",
       "2   1.000000  0.284586 -0.747639 -0.059917  0.025895 -0.206549  0.018787   \n",
       "3   0.284586  1.000000 -0.198170 -0.048022 -0.442558 -0.144355  0.142673   \n",
       "4  -0.747639 -0.198170  1.000000  0.084051 -0.039813 -0.019272 -0.006168   \n",
       "5  -0.059917 -0.048022  0.084051  1.000000  0.019245 -0.080333 -0.002635   \n",
       "6   0.025895 -0.442558 -0.039813  0.019245  1.000000  0.019150 -0.136919   \n",
       "8  -0.206549 -0.144355 -0.019272 -0.080333  0.019150  1.000000  0.020993   \n",
       "9   0.018787  0.142673 -0.006168 -0.002635 -0.136919  0.020993  1.000000   \n",
       "10  0.099972 -0.174134 -0.073245  0.009981  0.201446 -0.065541 -0.186810   \n",
       "11  0.082542 -0.155721 -0.014027  0.075938  0.168057  0.008693  0.000368   \n",
       "12 -0.649132 -0.443015  0.763754  0.119433 -0.163938  0.098951 -0.035010   \n",
       "13 -0.104693 -0.138990  0.057506  0.323527  0.027066  0.017327 -0.003706   \n",
       "14 -0.110881 -0.055319  0.056358 -0.094998 -0.120591  0.187957  0.030056   \n",
       "15  0.032096  0.040947 -0.015648  0.076610  0.187089 -0.111096  0.012427   \n",
       "16  0.132285  0.021576 -0.111022  0.002468 -0.011187 -0.030724  0.001532   \n",
       "17  0.037099  0.138293 -0.001784 -0.001636 -0.097495 -0.079570  0.054820   \n",
       "18  0.032926  0.099297 -0.033206 -0.011024 -0.046930 -0.052770  0.008592   \n",
       "19 -0.009362 -0.153135 -0.047891 -0.033741  0.153969  0.052587 -0.072795   \n",
       "20 -0.084186  0.023804  0.057875 -0.013053  0.059160  0.162482 -0.103499   \n",
       "21 -0.065185  0.057197  0.046032  0.017628 -0.037676  0.036424  0.002966   \n",
       "22  0.444080 -0.337862 -0.364399 -0.004054  0.431809 -0.086724 -0.168652   \n",
       "23  0.025678  0.094037 -0.097660  0.004158  0.002795  0.051152 -0.058213   \n",
       "24  0.171285 -0.121336 -0.135432 -0.003658  0.216842 -0.008822 -0.049815   \n",
       "25  0.306649 -0.251279 -0.269328 -0.007072  0.279320  0.055308 -0.127533   \n",
       "PD  0.050090  0.134092 -0.022670 -0.024748 -0.100022 -0.093166  0.049204   \n",
       "\n",
       "          10        11        12        13        14        15        16  \\\n",
       "2   0.099972  0.082542 -0.649132 -0.104693 -0.110881  0.032096  0.132285   \n",
       "3  -0.174134 -0.155721 -0.443015 -0.138990 -0.055319  0.040947  0.021576   \n",
       "4  -0.073245 -0.014027  0.763754  0.057506  0.056358 -0.015648 -0.111022   \n",
       "5   0.009981  0.075938  0.119433  0.323527 -0.094998  0.076610  0.002468   \n",
       "6   0.201446  0.168057 -0.163938  0.027066 -0.120591  0.187089 -0.011187   \n",
       "8  -0.065541  0.008693  0.098951  0.017327  0.187957 -0.111096 -0.030724   \n",
       "9  -0.186810  0.000368 -0.035010 -0.003706  0.030056  0.012427  0.001532   \n",
       "10  1.000000  0.034579 -0.082725  0.014037 -0.090940  0.013895 -0.005802   \n",
       "11  0.034579  1.000000  0.010542  0.034236 -0.248893  0.274598  0.032502   \n",
       "12 -0.082725  0.010542  1.000000  0.140749  0.126100 -0.145677 -0.069452   \n",
       "13  0.014037  0.034236  0.140749  1.000000 -0.058864  0.043155  0.003471   \n",
       "14 -0.090940 -0.248893  0.126100 -0.058864  1.000000 -0.382393  0.029846   \n",
       "15  0.013895  0.274598 -0.145677  0.043155 -0.382393  1.000000 -0.044533   \n",
       "16 -0.005802  0.032502 -0.069452  0.003471  0.029846 -0.044533  1.000000   \n",
       "17 -0.016410 -0.061034 -0.011634  0.003639  0.027373 -0.063877 -0.002085   \n",
       "18 -0.022233 -0.055990 -0.039276 -0.001639  0.003702  0.006420 -0.006755   \n",
       "19  0.057592  0.125597 -0.023463  0.016612 -0.030263  0.185545 -0.014014   \n",
       "20 -0.022014 -0.015500  0.001052  0.025509  0.032354  0.120451  0.007587   \n",
       "21 -0.036151 -0.145206  0.011732  0.026167  0.065387  0.175407 -0.023318   \n",
       "22  0.369626  0.122562 -0.308220  0.002717 -0.115312  0.108438  0.028692   \n",
       "23  0.082098 -0.002994 -0.169332  0.012705 -0.002440  0.011049  0.015132   \n",
       "24  0.308546 -0.009982 -0.153747 -0.001095 -0.016547  0.042808  0.010810   \n",
       "25  0.273082  0.096772 -0.189809 -0.001096 -0.022325  0.024274  0.006558   \n",
       "PD -0.008161 -0.064762 -0.035368  0.037334 -0.038399 -0.033643 -0.019480   \n",
       "\n",
       "          17        18        19        20        21        22        23  \\\n",
       "2   0.037099  0.032926 -0.009362 -0.084186 -0.065185  0.444080  0.025678   \n",
       "3   0.138293  0.099297 -0.153135  0.023804  0.057197 -0.337862  0.094037   \n",
       "4  -0.001784 -0.033206 -0.047891  0.057875  0.046032 -0.364399 -0.097660   \n",
       "5  -0.001636 -0.011024 -0.033741 -0.013053  0.017628 -0.004054  0.004158   \n",
       "6  -0.097495 -0.046930  0.153969  0.059160 -0.037676  0.431809  0.002795   \n",
       "8  -0.079570 -0.052770  0.052587  0.162482  0.036424 -0.086724  0.051152   \n",
       "9   0.054820  0.008592 -0.072795 -0.103499  0.002966 -0.168652 -0.058213   \n",
       "10 -0.016410 -0.022233  0.057592 -0.022014 -0.036151  0.369626  0.082098   \n",
       "11 -0.061034 -0.055990  0.125597 -0.015500 -0.145206  0.122562 -0.002994   \n",
       "12 -0.011634 -0.039276 -0.023463  0.001052  0.011732 -0.308220 -0.169332   \n",
       "13  0.003639 -0.001639  0.016612  0.025509  0.026167  0.002717  0.012705   \n",
       "14  0.027373  0.003702 -0.030263  0.032354  0.065387 -0.115312 -0.002440   \n",
       "15 -0.063877  0.006420  0.185545  0.120451  0.175407  0.108438  0.011049   \n",
       "16 -0.002085 -0.006755 -0.014014  0.007587 -0.023318  0.028692  0.015132   \n",
       "17  1.000000  0.730946 -0.070349 -0.023559  0.002097 -0.082341  0.018478   \n",
       "18  0.730946  1.000000 -0.028839 -0.013015  0.034814 -0.037805  0.042252   \n",
       "19 -0.070349 -0.028839  1.000000  0.103205 -0.001170  0.170000  0.076500   \n",
       "20 -0.023559 -0.013015  0.103205  1.000000  0.195161 -0.015416  0.172608   \n",
       "21  0.002097  0.034814 -0.001170  0.195161  1.000000 -0.036297  0.004411   \n",
       "22 -0.082341 -0.037805  0.170000 -0.015416 -0.036297  1.000000  0.086636   \n",
       "23  0.018478  0.042252  0.076500  0.172608  0.004411  0.086636  1.000000   \n",
       "24 -0.030358 -0.014931  0.147244  0.032734  0.005095  0.309785  0.215327   \n",
       "25 -0.062891 -0.037488  0.219413  0.076723 -0.014857  0.571483  0.265473   \n",
       "PD  0.666052  0.335165 -0.033567 -0.021079  0.017678 -0.090281  0.079788   \n",
       "\n",
       "          24        25        PD  \n",
       "2   0.171285  0.306649  0.050090  \n",
       "3  -0.121336 -0.251279  0.134092  \n",
       "4  -0.135432 -0.269328 -0.022670  \n",
       "5  -0.003658 -0.007072 -0.024748  \n",
       "6   0.216842  0.279320 -0.100022  \n",
       "8  -0.008822  0.055308 -0.093166  \n",
       "9  -0.049815 -0.127533  0.049204  \n",
       "10  0.308546  0.273082 -0.008161  \n",
       "11 -0.009982  0.096772 -0.064762  \n",
       "12 -0.153747 -0.189809 -0.035368  \n",
       "13 -0.001095 -0.001096  0.037334  \n",
       "14 -0.016547 -0.022325 -0.038399  \n",
       "15  0.042808  0.024274 -0.033643  \n",
       "16  0.010810  0.006558 -0.019480  \n",
       "17 -0.030358 -0.062891  0.666052  \n",
       "18 -0.014931 -0.037488  0.335165  \n",
       "19  0.147244  0.219413 -0.033567  \n",
       "20  0.032734  0.076723 -0.021079  \n",
       "21  0.005095 -0.014857  0.017678  \n",
       "22  0.309785  0.571483 -0.090281  \n",
       "23  0.215327  0.265473  0.079788  \n",
       "24  1.000000  0.378347 -0.033948  \n",
       "25  0.378347  1.000000 -0.069498  \n",
       "PD -0.033948 -0.069498  1.000000  "
      ]
     },
     "execution_count": 26,
     "metadata": {},
     "output_type": "execute_result"
    }
   ],
   "source": [
    "pd.options.display.max_columns = 30\n",
    "data.corr()"
   ]
  },
  {
   "cell_type": "markdown",
   "metadata": {},
   "source": [
    " #### Реализация модели"
   ]
  },
  {
   "cell_type": "code",
   "execution_count": 27,
   "metadata": {
    "scrolled": true
   },
   "outputs": [
    {
     "name": "stdout",
     "output_type": "stream",
     "text": [
      "Optimization terminated successfully.\n",
      "         Current function value: 0.581788\n",
      "         Iterations 6\n",
      "                         Results: Logit\n",
      "=================================================================\n",
      "Model:              Logit            Pseudo R-squared: 0.161     \n",
      "Dependent Variable: PD               AIC:              1161.2858 \n",
      "Date:               2020-12-14 11:18 BIC:              1195.5414 \n",
      "No. Observations:   986              Log-Likelihood:   -573.64   \n",
      "Df Model:           6                LL-Null:          -683.44   \n",
      "Df Residuals:       979              LLR p-value:      1.2661e-44\n",
      "Converged:          1.0000           Scale:            1.0000    \n",
      "No. Iterations:     6.0000                                       \n",
      "--------------------------------------------------------------------\n",
      "       Coef.     Std.Err.       z       P>|z|      [0.025     0.975]\n",
      "--------------------------------------------------------------------\n",
      "8     -1.4801      0.1733    -8.5385    0.0000    -1.8198    -1.1403\n",
      "9      1.0621      0.1124     9.4495    0.0000     0.8418     1.2824\n",
      "11    -1.0459      0.1493    -7.0033    0.0000    -1.3386    -0.7532\n",
      "14    -0.1608      0.0528    -3.0436    0.0023    -0.2643    -0.0572\n",
      "19    -0.1984      0.0876    -2.2660    0.0235    -0.3701    -0.0268\n",
      "21    -0.1945      0.0581    -3.3442    0.0008    -0.3084    -0.0805\n",
      "22    -0.0001      0.0000    -4.0444    0.0001    -0.0002    -0.0001\n",
      "=================================================================\n",
      "\n"
     ]
    },
    {
     "name": "stderr",
     "output_type": "stream",
     "text": [
      "D:\\Python\\lib\\site-packages\\numpy\\linalg\\linalg.py:1872: RuntimeWarning: invalid value encountered in greater\n",
      "  return count_nonzero(S > tol, axis=-1)\n"
     ]
    }
   ],
   "source": [
    "import statsmodels.api as sm\n",
    "logit_model=sm.Logit(y,X)\n",
    "result=logit_model.fit()\n",
    "print(result.summary2())"
   ]
  },
  {
   "cell_type": "markdown",
   "metadata": {},
   "source": [
    "#### Подгонка модели логистической регрессии"
   ]
  },
  {
   "cell_type": "code",
   "execution_count": 28,
   "metadata": {
    "scrolled": true
   },
   "outputs": [
    {
     "data": {
      "text/plain": [
       "LogisticRegression(max_iter=10000)"
      ]
     },
     "execution_count": 28,
     "metadata": {},
     "output_type": "execute_result"
    }
   ],
   "source": [
    "from sklearn.linear_model import LogisticRegression\n",
    "from sklearn import metrics\n",
    "\n",
    "X_train, X_test, y_train, y_test = train_test_split(X, y, test_size=0.1, random_state=0)\n",
    "logreg = LogisticRegression(max_iter=10000)\n",
    "logreg.fit(X_train, y_train)"
   ]
  },
  {
   "cell_type": "markdown",
   "metadata": {},
   "source": [
    "#### Прогнозирование"
   ]
  },
  {
   "cell_type": "code",
   "execution_count": 29,
   "metadata": {},
   "outputs": [
    {
     "name": "stdout",
     "output_type": "stream",
     "text": [
      "Accuracy of logistic regression classifier on test set: 0.78\n"
     ]
    }
   ],
   "source": [
    "y_pred = logreg.predict(X_test)\n",
    "print('Accuracy of logistic regression classifier on test set: {:.2f}'.format(logreg.score(X_test, y_test)))"
   ]
  },
  {
   "cell_type": "markdown",
   "metadata": {},
   "source": [
    "#### Матрица ошибок"
   ]
  },
  {
   "cell_type": "code",
   "execution_count": 30,
   "metadata": {},
   "outputs": [
    {
     "name": "stdout",
     "output_type": "stream",
     "text": [
      "[[42  8]\n",
      " [14 35]]\n"
     ]
    }
   ],
   "source": [
    "from sklearn.metrics import confusion_matrix\n",
    "confusion_matrix = confusion_matrix(y_test, y_pred)\n",
    "print(confusion_matrix)"
   ]
  },
  {
   "cell_type": "code",
   "execution_count": 31,
   "metadata": {
    "scrolled": false
   },
   "outputs": [
    {
     "name": "stdout",
     "output_type": "stream",
     "text": [
      "              precision    recall  f1-score   support\n",
      "\n",
      "           0       0.75      0.84      0.79        50\n",
      "           1       0.81      0.71      0.76        49\n",
      "\n",
      "    accuracy                           0.78        99\n",
      "   macro avg       0.78      0.78      0.78        99\n",
      "weighted avg       0.78      0.78      0.78        99\n",
      "\n"
     ]
    }
   ],
   "source": [
    "from sklearn.metrics import classification_report\n",
    "print(classification_report(y_test, y_pred))"
   ]
  },
  {
   "cell_type": "markdown",
   "metadata": {},
   "source": [
    "#### ROC-кривая"
   ]
  },
  {
   "cell_type": "code",
   "execution_count": 32,
   "metadata": {
    "scrolled": false
   },
   "outputs": [
    {
     "data": {
      "image/png": "[encoded data removed]",
      "text/plain": [
       "<Figure size 432x288 with 1 Axes>"
      ]
     },
     "metadata": {},
     "output_type": "display_data"
    }
   ],
   "source": [
    "from sklearn.metrics import roc_auc_score\n",
    "from sklearn.metrics import roc_curve\n",
    "logit_roc_auc = roc_auc_score(y_test, logreg.predict(X_test))\n",
    "fpr, tpr, thresholds = roc_curve(y_test, logreg.predict_proba(X_test)[:,1])\n",
    "plt.figure()\n",
    "plt.plot(fpr, tpr, label='Logistic Regression (area = %0.2f)' % logit_roc_auc)\n",
    "plt.plot([0, 1], [0, 1],'r--')\n",
    "plt.xlim([0.0, 1.0])\n",
    "plt.ylim([0.0, 1.05])\n",
    "plt.xlabel('False Positive Rate')\n",
    "plt.ylabel('True Positive Rate')\n",
    "plt.title('Receiver operating characteristic')\n",
    "plt.legend(loc=\"lower right\")\n",
    "#plt.savefig('Log_ROC')\n",
    "plt.show()"
   ]
  }
 ],
 "metadata": {
  "kernelspec": {
   "display_name": "Python 3",
   "language": "python",
   "name": "python3"
  },
  "language_info": {
   "codemirror_mode": {
    "name": "ipython",
    "version": 3
   },
   "file_extension": ".py",
   "mimetype": "text/x-python",
   "name": "python",
   "nbconvert_exporter": "python",
   "pygments_lexer": "ipython3",
   "version": "3.6.5"
  }
 },
 "nbformat": 4,
 "nbformat_minor": 2
}
