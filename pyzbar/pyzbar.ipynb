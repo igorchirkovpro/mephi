{
 "cells": [
  {
   "cell_type": "code",
   "execution_count": 1,
   "metadata": {},
   "outputs": [],
   "source": [
    "from pyzbar import pyzbar\n",
    "import cv2"
   ]
  },
  {
   "cell_type": "code",
   "execution_count": 2,
   "metadata": {},
   "outputs": [],
   "source": [
    "def decode(image):\n",
    "    # декодирует все штрих-коды с изображения\n",
    "    decoded_objects = pyzbar.decode(image)\n",
    "    for obj in decoded_objects:\n",
    "        # рисование штрих-кодов\n",
    "        print(\"detected barcode:\", obj)\n",
    "        image = draw_barcode(obj, image)\n",
    "        print(\"Type:\", obj.type)\n",
    "        print(\"Data:\", obj.data)\n",
    "        print()\n",
    "\n",
    "    return image"
   ]
  },
  {
   "cell_type": "code",
   "execution_count": 3,
   "metadata": {},
   "outputs": [],
   "source": [
    "def draw_barcode(decoded, image):\n",
    "    # n_points = len(decoded.polygon)\n",
    "    # for i in range(n_points):\n",
    "    #     image = cv2.line(image, decoded.polygon[i], decoded.polygon[(i+1) % n_points], color=(0, 255, 0), thickness=5)\n",
    "    # раскоментировать вверху и закоментировать внизу чтобы рисовать многоугольник, а не прямоугольник\n",
    "    image = cv2.rectangle(image, (decoded.rect.left, decoded.rect.top), \n",
    "                            (decoded.rect.left + decoded.rect.width, decoded.rect.top + decoded.rect.height),\n",
    "                            color=(0, 255, 0),\n",
    "                            thickness=5)\n",
    "    return image"
   ]
  },
  {
   "cell_type": "code",
   "execution_count": null,
   "metadata": {},
   "outputs": [
    {
     "name": "stdout",
     "output_type": "stream",
     "text": [
      "detected barcode: Decoded(data=b'4630012080101', type='EAN13', rect=Rect(left=294, top=629, width=162, height=60), polygon=[Point(x=294, y=689), Point(x=444, y=688), Point(x=447, y=678), Point(x=451, y=662), Point(x=454, y=648), Point(x=456, y=632), Point(x=456, y=630), Point(x=303, y=629), Point(x=302, y=631)])\n",
      "Type: EAN13\n",
      "Data: b'4630012080101'\n",
      "\n"
     ]
    }
   ],
   "source": [
    "if __name__ == \"__main__\":\n",
    "    from glob import glob\n",
    "\n",
    "    barcodes = glob(\"barcode.png\")\n",
    "    for barcode_file in barcodes:\n",
    "        # загрузка изображения в opencv\n",
    "        img = cv2.imread(barcode_file)\n",
    "        # декодирование обнаруженных штрих-кодов и получение изображения\n",
    "        # рисование\n",
    "        img = decode(img)\n",
    "        # показ изображения\n",
    "        cv2.imshow(\"img\", img)\n",
    "        cv2.waitKey(0)"
   ]
  }
 ],
 "metadata": {
  "kernelspec": {
   "display_name": "Python 3",
   "language": "python",
   "name": "python3"
  },
  "language_info": {
   "codemirror_mode": {
    "name": "ipython",
    "version": 3
   },
   "file_extension": ".py",
   "mimetype": "text/x-python",
   "name": "python",
   "nbconvert_exporter": "python",
   "pygments_lexer": "ipython3",
   "version": "3.6.5"
  }
 },
 "nbformat": 4,
 "nbformat_minor": 2
}
