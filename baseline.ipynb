{
 "cells": [
  {
   "cell_type": "code",
   "execution_count": 1,
   "metadata": {
    "id": "0W-vUnCCA-7y"
   },
   "outputs": [],
   "source": [
    "import torch\n",
    "import torch.nn as nn\n",
    "import torch.nn.functional as F\n",
    "import torch.optim as optim\n",
    "\n",
    "from tqdm import tqdm\n",
    "from random import shuffle"
   ]
  },
  {
   "cell_type": "code",
   "execution_count": 2,
   "metadata": {
    "id": "nRrSW0Y4BHGr"
   },
   "outputs": [],
   "source": [
    "from sklearn.metrics import f1_score"
   ]
  },
  {
   "cell_type": "markdown",
   "metadata": {
    "id": "ApNun7EzBRTO"
   },
   "source": [
    "**Data loading**"
   ]
  },
  {
   "cell_type": "code",
   "execution_count": 3,
   "metadata": {
    "id": "V4PIwrSBBO0z"
   },
   "outputs": [],
   "source": [
    "def prepare_sequence(seq, to_ix):\n",
    "    idxs = [to_ix[w] for w in seq]\n",
    "    return torch.tensor(idxs, dtype=torch.long)"
   ]
  },
  {
   "cell_type": "code",
   "execution_count": 4,
   "metadata": {
    "id": "2nQY2go9BYXa"
   },
   "outputs": [],
   "source": [
    "def read_dataset(filename, splitter=\"\\t\"):\n",
    "    data = []\n",
    "    sentence = []\n",
    "    tags = []\n",
    "    with open(filename) as f:\n",
    "        for line in f:\n",
    "            if not line.isspace():\n",
    "                word, tag = line.split(splitter)\n",
    "                sentence.append(word)\n",
    "                tags.append(tag.strip())\n",
    "            else:\n",
    "                data.append((sentence, tags))\n",
    "                sentence = []\n",
    "                tags = []\n",
    "    return data"
   ]
  },
  {
   "cell_type": "code",
   "execution_count": 5,
   "metadata": {
    "id": "reXmzj5rBbCR"
   },
   "outputs": [],
   "source": [
    "training_data = read_dataset(\"train.tsv\")"
   ]
  },
  {
   "cell_type": "code",
   "execution_count": 6,
   "metadata": {
    "colab": {
     "base_uri": "https://localhost:8080/"
    },
    "executionInfo": {
     "elapsed": 8,
     "status": "ok",
     "timestamp": 1670265988344,
     "user": {
      "displayName": "Игорь Чирков",
      "userId": "17360416851836775297"
     },
     "user_tz": -180
    },
    "id": "ZjdyuUzlUPt3",
    "outputId": "16985a4f-0bdb-47a9-8b6d-bc85f5f4b247",
    "scrolled": true
   },
   "outputs": [
    {
     "data": {
      "text/plain": [
       "[('also', 'O'),\n",
       " (',', 'O'),\n",
       " ('i', 'O'),\n",
       " ('have', 'O'),\n",
       " ('recently', 'O'),\n",
       " ('discovered', 'O'),\n",
       " ('advil', 'B-Object'),\n",
       " ('liquigels', 'O'),\n",
       " ('work', 'O'),\n",
       " ('much', 'O'),\n",
       " ('better', 'B-Predicate'),\n",
       " ('and', 'O'),\n",
       " ('faster', 'B-Predicate'),\n",
       " ('for', 'O'),\n",
       " ('a', 'O'),\n",
       " ('headache', 'B-Aspect'),\n",
       " ('than', 'O'),\n",
       " ('regular', 'O'),\n",
       " ('ibuprofen', 'B-Object'),\n",
       " ('.', 'O')]"
      ]
     },
     "execution_count": 6,
     "metadata": {},
     "output_type": "execute_result"
    }
   ],
   "source": [
    "list(zip(training_data[0][0], training_data[0][1]))"
   ]
  },
  {
   "cell_type": "code",
   "execution_count": 7,
   "metadata": {
    "id": "8ogeMyUAKrvh"
   },
   "outputs": [],
   "source": [
    "test_data = read_dataset(\"dev_no_answers.tsv\", splitter=\"\\n\")"
   ]
  },
  {
   "cell_type": "code",
   "execution_count": 8,
   "metadata": {
    "id": "kYOTmVhWS3tD"
   },
   "outputs": [],
   "source": [
    "word_to_ix = {}\n",
    "\n",
    "# For each words-list (sentence) and tags-list in each tuple of training_data\n",
    "for sent, tags in training_data:\n",
    "    for word in sent:\n",
    "        if word not in word_to_ix:  # word has not been assigned an index yet # слову еще не присвоен индекс\n",
    "            word_to_ix[word] = len(word_to_ix)  # Assign each word with a unique index\n",
    "            \n",
    "for sent, tags in test_data:\n",
    "    for word in sent:\n",
    "        if word not in word_to_ix:  # word has not been assigned an index yet # слову еще не присвоен индекс\n",
    "            word_to_ix[word] = len(word_to_ix)  # Assign each word with a unique index\n",
    "\n",
    "\n",
    "tag_to_ix = {\n",
    "    \"O\": 0,\n",
    "    \"B-Object\": 1,\n",
    "    \"I-Object\": 2,\n",
    "    \"B-Aspect\": 3,\n",
    "    \"I-Aspect\": 4,\n",
    "    \"B-Predicate\": 5,\n",
    "    \"I-Predicate\": 6\n",
    "}  # Assign each tag with a unique index\n",
    "\n",
    "idx_to_tag = dict(map(reversed, tag_to_ix.items()))\n",
    "\n",
    "EMBEDDING_DIM = 128\n",
    "HIDDEN_DIM = 96"
   ]
  },
  {
   "cell_type": "code",
   "execution_count": 9,
   "metadata": {},
   "outputs": [],
   "source": [
    "from torch.utils.data import Dataset, DataLoader\n",
    "from torch.nn.utils.rnn import pad_sequence, pack_padded_sequence, pad_packed_sequence\n",
    "\n",
    "class TextDataset(Dataset):\n",
    "    \n",
    "    def __init__(self, path_to_tsv, word_to_idx, tag_to_idx):\n",
    "        \n",
    "        self.data = read_dataset(path_to_tsv)\n",
    "        self.word_to_idx = word_to_idx\n",
    "        self.tag_to_idx = tag_to_idx\n",
    "\n",
    "    def __len__(self):\n",
    "        return len(self.data)\n",
    "\n",
    "    def __getitem__(self, idx):\n",
    "        \n",
    "        text = self.data[idx]\n",
    "        tags = prepare_sequence(text[1], self.tag_to_idx)\n",
    "        text = prepare_sequence(text[0], self.word_to_idx)\n",
    "        \n",
    "        sample = {\"text\": text, \"tags\": tags}\n",
    "        return sample\n",
    "    \n",
    "    \n",
    "def collate_fn_simple(batch):\n",
    "    \n",
    "    text = [i[\"text\"] for i in batch]\n",
    "    tags = [i[\"tags\"] for i in batch]\n",
    "    \n",
    "    return {\"text\": text, \n",
    "            \"tags\": tags}"
   ]
  },
  {
   "cell_type": "markdown",
   "metadata": {
    "id": "D5PSxcb_S-Ox"
   },
   "source": [
    "**Tagger**"
   ]
  },
  {
   "cell_type": "code",
   "execution_count": 10,
   "metadata": {},
   "outputs": [],
   "source": [
    "class LSTMTagger(nn.Module):\n",
    "\n",
    "    def __init__(self, embedding_dim, hidden_dim, vocab_size, tagset_size):\n",
    "        super(LSTMTagger, self).__init__()\n",
    "        self.hidden_dim = hidden_dim\n",
    "\n",
    "        self.word_embeddings = nn.Embedding(vocab_size, embedding_dim,\n",
    "                                            scale_grad_by_freq = True, \n",
    "                                            norm_type = 2)\n",
    "\n",
    "        # The LSTM takes word embeddings as inputs, and outputs hidden states\n",
    "        # with dimensionality hidden_dim.\n",
    "        self.lstm = nn.GRU(embedding_dim, hidden_dim, num_layers = 3,\n",
    "                            dropout = 0.3, bidirectional = True)\n",
    "\n",
    "        # The linear layer that maps from hidden state space to tag space\n",
    "        self.hidden2tag = nn.Sequential(\n",
    "            nn.Linear(hidden_dim*2, hidden_dim),\n",
    "            nn.GELU(),\n",
    "            nn.Linear(hidden_dim, tagset_size),\n",
    "            nn.LogSoftmax()\n",
    "        )\n",
    "\n",
    "    def forward(self, sentences):\n",
    "        lens = [len(i) for i in sentences]\n",
    "        embeds = pad_sequence([self.word_embeddings(i) for i in sentences], batch_first = True)\n",
    "        embeds = pack_padded_sequence(embeds, batch_first=True, lengths = lens, enforce_sorted=False)\n",
    "        lstm_out, _ = self.lstm(embeds)\n",
    "        lstm_out, input_sizes = pad_packed_sequence(lstm_out, batch_first = True)\n",
    "        \n",
    "        tag_scores = [self.hidden2tag(lstm_out[i, 0:input_sizes[i]]) for i in range(lstm_out.shape[0])]\n",
    "        #tag_scores = F.log_softmax(tag_space, dim=1)\n",
    "        return tag_scores"
   ]
  },
  {
   "cell_type": "markdown",
   "metadata": {
    "id": "VAkccapDTg6U"
   },
   "source": [
    " **Training**"
   ]
  },
  {
   "cell_type": "code",
   "execution_count": 11,
   "metadata": {},
   "outputs": [],
   "source": [
    "model = LSTMTagger(EMBEDDING_DIM, HIDDEN_DIM, len(word_to_ix), len(tag_to_ix))\n",
    "loss_function = nn.CrossEntropyLoss()\n",
    "optimizer = optim.Adamax(model.parameters(), lr=0.01, weight_decay = 0.0001)"
   ]
  },
  {
   "cell_type": "code",
   "execution_count": 12,
   "metadata": {
    "scrolled": true
   },
   "outputs": [
    {
     "name": "stderr",
     "output_type": "stream",
     "text": [
      "  0%|                                                                                           | 0/50 [00:00<?, ?it/s]C:\\ProgramData\\Anaconda3\\lib\\site-packages\\torch\\nn\\modules\\container.py:139: UserWarning: Implicit dimension choice for log_softmax has been deprecated. Change the call to include dim=X as an argument.\n",
      "  input = module(input)\n",
      "100%|██████████████████████████████████████████████████████████████████████████████████| 50/50 [23:29<00:00, 28.18s/it]\n"
     ]
    },
    {
     "data": {
      "text/plain": [
       "LSTMTagger(\n",
       "  (word_embeddings): Embedding(7142, 128, scale_grad_by_freq=True)\n",
       "  (lstm): GRU(128, 96, num_layers=3, dropout=0.3, bidirectional=True)\n",
       "  (hidden2tag): Sequential(\n",
       "    (0): Linear(in_features=192, out_features=96, bias=True)\n",
       "    (1): GELU()\n",
       "    (2): Linear(in_features=96, out_features=7, bias=True)\n",
       "    (3): LogSoftmax(dim=None)\n",
       "  )\n",
       ")"
      ]
     },
     "execution_count": 12,
     "metadata": {},
     "output_type": "execute_result"
    }
   ],
   "source": [
    "dataset = TextDataset(\"train.tsv\", word_to_ix, tag_to_ix)\n",
    "train_dl = DataLoader(dataset, shuffle=True, batch_size=15, collate_fn=collate_fn_simple)\n",
    "\n",
    "model.train()\n",
    "\n",
    "loss_list = []\n",
    "\n",
    "for epoch in tqdm(range(50)):  # again, normally you would NOT do 300 epochs, it is toy data\n",
    "    e_loss = 0\n",
    "    for i, batch in enumerate(train_dl):\n",
    "        optimizer.zero_grad()\n",
    "        \n",
    "        sentence, targets = batch[\"text\"], batch[\"tags\"]\n",
    "        \n",
    "        tag_scores = model(sentence)\n",
    "        \n",
    "        loss = sum([loss_function(tag_scores[i], targets[i]) for i in range(len(tag_scores))])\n",
    "        loss.backward()\n",
    "        optimizer.step()\n",
    "        \n",
    "        e_loss += loss.detach()\n",
    "        \n",
    "    e_loss = e_loss / (i+1e-7)\n",
    "    loss_list.append(e_loss)\n",
    "\n",
    "model.eval()"
   ]
  },
  {
   "cell_type": "code",
   "execution_count": 13,
   "metadata": {},
   "outputs": [
    {
     "data": {
      "text/plain": [
       "[<matplotlib.lines.Line2D at 0x2aaa6330348>]"
      ]
     },
     "execution_count": 13,
     "metadata": {},
     "output_type": "execute_result"
    },
    {
     "data": {
      "image/png": "[encoded data removed]",
      "text/plain": [
       "<Figure size 432x288 with 1 Axes>"
      ]
     },
     "metadata": {
      "needs_background": "light"
     },
     "output_type": "display_data"
    }
   ],
   "source": [
    "import matplotlib.pyplot as plt\n",
    "plt.plot(list(range(len(loss_list))), loss_list)"
   ]
  },
  {
   "cell_type": "markdown",
   "metadata": {
    "id": "IyGEMKCcVVTI"
   },
   "source": [
    "**Inference**"
   ]
  },
  {
   "cell_type": "code",
   "execution_count": 14,
   "metadata": {
    "colab": {
     "base_uri": "https://localhost:8080/"
    },
    "executionInfo": {
     "elapsed": 23,
     "status": "ok",
     "timestamp": 1670266159768,
     "user": {
      "displayName": "Игорь Чирков",
      "userId": "17360416851836775297"
     },
     "user_tz": -180
    },
    "id": "cizQLdcyVSpD",
    "outputId": "78f05087-f07e-4036-bbb0-a7bf8417a39c"
   },
   "outputs": [
    {
     "name": "stdout",
     "output_type": "stream",
     "text": [
      "also O\n",
      ", O\n",
      "i O\n",
      "have O\n",
      "recently O\n",
      "discovered O\n",
      "advil B-Object\n",
      "liquigels O\n",
      "work O\n",
      "much O\n",
      "better B-Predicate\n",
      "and O\n",
      "faster B-Predicate\n",
      "for O\n",
      "a O\n",
      "headache B-Aspect\n",
      "than O\n",
      "regular O\n",
      "ibuprofen B-Object\n",
      ". O\n"
     ]
    },
    {
     "name": "stderr",
     "output_type": "stream",
     "text": [
      "C:\\ProgramData\\Anaconda3\\lib\\site-packages\\torch\\nn\\modules\\container.py:139: UserWarning: Implicit dimension choice for log_softmax has been deprecated. Change the call to include dim=X as an argument.\n",
      "  input = module(input)\n"
     ]
    }
   ],
   "source": [
    "model.eval()\n",
    "with torch.no_grad():\n",
    "    inputs = [prepare_sequence(training_data[0][0], word_to_ix)]\n",
    "    tag_scores = model(inputs)[0]\n",
    "    tags = [idx_to_tag[int(i)] for i in tag_scores.argmax(dim=-1)]\n",
    "    \n",
    "    for i, y in zip(training_data[0][0], tags):\n",
    "        print(i, y)"
   ]
  },
  {
   "cell_type": "code",
   "execution_count": 15,
   "metadata": {
    "colab": {
     "base_uri": "https://localhost:8080/"
    },
    "executionInfo": {
     "elapsed": 987,
     "status": "ok",
     "timestamp": 1670266160735,
     "user": {
      "displayName": "Игорь Чирков",
      "userId": "17360416851836775297"
     },
     "user_tz": -180
    },
    "id": "MlAv-lEQVQyY",
    "outputId": "4b12a79f-22d2-4652-adbb-e7a05a7833a4"
   },
   "outputs": [
    {
     "name": "stderr",
     "output_type": "stream",
     "text": [
      "100%|███████████████████████████████████████████████████████████████████████████████| 283/283 [00:02<00:00, 118.14it/s]\n"
     ]
    }
   ],
   "source": [
    "with open(\"out_dev.tsv\", \"w\") as w:\n",
    "    with torch.no_grad():\n",
    "        for sentence in tqdm(test_data):\n",
    "            inputs = [prepare_sequence(sentence[0], word_to_ix)]\n",
    "            tag_scores = model(inputs)[0]\n",
    "            tags = [idx_to_tag[int(i)] for i in tag_scores.argmax(dim=-1)]\n",
    "            for i, y in zip(sentence[0], tags):\n",
    "                w.write(f\"{i}\\t{y}\\n\")\n",
    "            w.write(\"\\n\")"
   ]
  },
  {
   "cell_type": "code",
   "execution_count": 16,
   "metadata": {
    "colab": {
     "base_uri": "https://localhost:8080/"
    },
    "executionInfo": {
     "elapsed": 14,
     "status": "ok",
     "timestamp": 1670266160736,
     "user": {
      "displayName": "Игорь Чирков",
      "userId": "17360416851836775297"
     },
     "user_tz": -180
    },
    "id": "tJKtRFTlVnlZ",
    "outputId": "720ad6be-6f4d-4617-e858-b775cf78b980"
   },
   "outputs": [
    {
     "name": "stderr",
     "output_type": "stream",
     "text": [
      "\"zip\" ­Ґ пў«пҐвбп ў­гваҐ­­Ґ© Ё«Ё ў­Ґи­Ґ©\n",
      "Є®¬ ­¤®©, ЁбЇ®«­пҐ¬®© Їа®Ја ¬¬®© Ё«Ё Ї ЄҐв­л¬ д ©«®¬.\n"
     ]
    }
   ],
   "source": [
    "!zip out.zip out_test.tsv"
   ]
  },
  {
   "cell_type": "code",
   "execution_count": 17,
   "metadata": {
    "id": "m-ZOo2QJg3yL"
   },
   "outputs": [],
   "source": [
    "from evaluate_f1_partial import main"
   ]
  },
  {
   "cell_type": "code",
   "execution_count": 18,
   "metadata": {
    "id": "VZfpmO7KhGta"
   },
   "outputs": [],
   "source": [
    "main('dev.tsv', 'out_dev.tsv', 'qwerty')"
   ]
  },
  {
   "cell_type": "code",
   "execution_count": null,
   "metadata": {},
   "outputs": [],
   "source": []
  }
 ],
 "metadata": {
  "colab": {
   "authorship_tag": "ABX9TyO/SxZQm93UQsXpj9a0kERm",
   "provenance": []
  },
  "kernelspec": {
   "display_name": "Python 3",
   "language": "python",
   "name": "python3"
  },
  "language_info": {
   "codemirror_mode": {
    "name": "ipython",
    "version": 3
   },
   "file_extension": ".py",
   "mimetype": "text/x-python",
   "name": "python",
   "nbconvert_exporter": "python",
   "pygments_lexer": "ipython3",
   "version": "3.7.6"
  }
 },
 "nbformat": 4,
 "nbformat_minor": 1
}
